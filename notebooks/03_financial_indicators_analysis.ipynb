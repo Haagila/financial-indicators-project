{
 "cells": [
  {
   "cell_type": "code",
   "execution_count": 4,
   "id": "402f1ef3",
   "metadata": {},
   "outputs": [
    {
     "name": "stdout",
     "output_type": "stream",
     "text": [
      "Intentando cargar datos desde la ruta local del proyecto: ../data/processed/ai_stocks_historical_data_cleaned.parquet\n",
      "\n",
      "Datos limpios del Proyecto 1 cargados exitosamente en el Proyecto 2.\n",
      "Rango de fechas de los datos cargados: 2015-04-20 00:00:00 hasta 2025-04-17 00:00:00\n",
      "\n",
      "Primeras filas del DataFrame cargado:\n",
      "Price           Close                                            High       \\\n",
      "Ticker           ARKQ BOTZ      GOOGL       MSFT      NVDA       ARKQ BOTZ   \n",
      "Date                                                                         \n",
      "2015-04-20  18.980328  NaN  27.096951  37.034481  0.532178  19.129559  NaN   \n",
      "2015-04-21  19.008308  NaN  27.016832  36.801449  0.531456  19.026963  NaN   \n",
      "2015-04-22  19.120234  NaN  27.328344  37.103531  0.537478  19.129561  NaN   \n",
      "2015-04-23  19.259203  NaN  27.740372  37.405605  0.535310  19.260135  NaN   \n",
      "2015-04-24  19.165934  NaN  28.546520  41.315315  0.530733  19.165934  NaN   \n",
      "\n",
      "Price                                       ...       Open                  \\\n",
      "Ticker          GOOGL       MSFT      NVDA  ...       ARKQ BOTZ      GOOGL   \n",
      "Date                                        ...                              \n",
      "2015-04-20  27.160150  37.258879  0.540610  ...  19.129559  NaN  26.560516   \n",
      "2015-04-21  27.258179  37.241618  0.538683  ...  19.026963  NaN  27.185526   \n",
      "2015-04-22  27.418911  37.224361  0.538201  ...  18.915041  NaN  27.023801   \n",
      "2015-04-23  27.924990  37.638636  0.540369  ...  19.073597  NaN  27.389550   \n",
      "2015-04-24  29.095894  41.548345  0.535310  ...  19.165934  NaN  28.864500   \n",
      "\n",
      "Price                           Volume                                       \n",
      "Ticker           MSFT      NVDA   ARKQ BOTZ     GOOGL       MSFT       NVDA  \n",
      "Date                                                                         \n",
      "2015-04-20  36.016054  0.537238   1300  NaN  38508000   46057700  231624000  \n",
      "2015-04-21  37.112156  0.538683   1200  NaN  29128000   26013800  230456000  \n",
      "2015-04-22  36.827344  0.534588  35200  NaN  31806000   25064300  207420000  \n",
      "2015-04-23  37.017222  0.527601   1300  NaN  78184000   46309500  259380000  \n",
      "2015-04-24  39.407924  0.535069    200  NaN  92168000  130933700  240960000  \n",
      "\n",
      "[5 rows x 25 columns]\n"
     ]
    }
   ],
   "source": [
    "import pandas as pd\n",
    "import os\n",
    "\n",
    "# --- RUTA AL ARCHIVO PARQUET AHORA DENTRO DE ESTE MISMO PROYECTO ---\n",
    "# Asumiendo que el notebook está en financial-indicators-project/notebooks/\n",
    "# Necesitas subir un nivel (../), luego entrar en data/processed/\n",
    "cleaned_data_filepath = '../data/processed/ai_stocks_historical_data_cleaned.parquet'\n",
    "\n",
    "print(f\"Intentando cargar datos desde la ruta local del proyecto: {cleaned_data_filepath}\")\n",
    "\n",
    "try:\n",
    "    data_cleaned = pd.read_parquet(cleaned_data_filepath)\n",
    "    print(\"\\nDatos limpios del Proyecto 1 cargados exitosamente en el Proyecto 2.\")\n",
    "    print(f\"Rango de fechas de los datos cargados: {data_cleaned.index.min()} hasta {data_cleaned.index.max()}\")\n",
    "    print(\"\\nPrimeras filas del DataFrame cargado:\")\n",
    "    print(data_cleaned.head())\n",
    "except FileNotFoundError:\n",
    "    print(f\"\\nERROR: Archivo no encontrado en la ruta especificada: {cleaned_data_filepath}\")\n",
    "    print(\"Verifica que el archivo .parquet fue copiado correctamente a la carpeta data/processed/ de este proyecto.\")\n",
    "except Exception as e:\n",
    "    print(f\"\\nOcurrió un error al cargar el archivo: {e}\")"
   ]
  }
 ],
 "metadata": {
  "kernelspec": {
   "display_name": "venv",
   "language": "python",
   "name": "python3"
  },
  "language_info": {
   "codemirror_mode": {
    "name": "ipython",
    "version": 3
   },
   "file_extension": ".py",
   "mimetype": "text/x-python",
   "name": "python",
   "nbconvert_exporter": "python",
   "pygments_lexer": "ipython3",
   "version": "3.13.3"
  }
 },
 "nbformat": 4,
 "nbformat_minor": 5
}
